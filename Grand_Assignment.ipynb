{
 "cells": [
  {
   "cell_type": "code",
   "execution_count": 36,
   "metadata": {
    "collapsed": false
   },
   "outputs": [],
   "source": [
    "from pyspark.sql import SparkSession\n",
    "spark = SparkSession.builder.appName(\"Grand_Assign\").getOrCreate()"
   ]
  },
  {
   "cell_type": "code",
   "execution_count": 37,
   "metadata": {
    "collapsed": false
   },
   "outputs": [],
   "source": [
    "df = spark.read.csv('hdfs://quickstart.cloudera:8020/user/cloudera/census.csv',header=True,inferSchema=True)"
   ]
  },
  {
   "cell_type": "code",
   "execution_count": 38,
   "metadata": {
    "collapsed": false
   },
   "outputs": [
    {
     "name": "stdout",
     "output_type": "stream",
     "text": [
      "root\n",
      " |-- summary: string (nullable = true)\n",
      " |-- SUMLEV: string (nullable = true)\n",
      " |-- REGION: string (nullable = true)\n",
      " |-- DIVISION: string (nullable = true)\n",
      " |-- STATE: string (nullable = true)\n",
      " |-- COUNTY: string (nullable = true)\n",
      " |-- STNAME: string (nullable = true)\n",
      " |-- CTYNAME: string (nullable = true)\n",
      " |-- CENSUS2010POP: string (nullable = true)\n",
      " |-- ESTIMATESBASE2010: string (nullable = true)\n",
      " |-- POPESTIMATE2010: string (nullable = true)\n",
      " |-- POPESTIMATE2011: string (nullable = true)\n",
      " |-- POPESTIMATE2012: string (nullable = true)\n",
      " |-- POPESTIMATE2013: string (nullable = true)\n",
      " |-- POPESTIMATE2014: string (nullable = true)\n",
      " |-- POPESTIMATE2015: string (nullable = true)\n",
      " |-- NPOPCHG_2010: string (nullable = true)\n",
      " |-- NPOPCHG_2011: string (nullable = true)\n",
      " |-- NPOPCHG_2012: string (nullable = true)\n",
      " |-- NPOPCHG_2013: string (nullable = true)\n",
      " |-- NPOPCHG_2014: string (nullable = true)\n",
      " |-- NPOPCHG_2015: string (nullable = true)\n",
      " |-- BIRTHS2010: string (nullable = true)\n",
      " |-- BIRTHS2011: string (nullable = true)\n",
      " |-- BIRTHS2012: string (nullable = true)\n",
      " |-- BIRTHS2013: string (nullable = true)\n",
      " |-- BIRTHS2014: string (nullable = true)\n",
      " |-- BIRTHS2015: string (nullable = true)\n",
      " |-- DEATHS2010: string (nullable = true)\n",
      " |-- DEATHS2011: string (nullable = true)\n",
      " |-- DEATHS2012: string (nullable = true)\n",
      " |-- DEATHS2013: string (nullable = true)\n",
      " |-- DEATHS2014: string (nullable = true)\n",
      " |-- DEATHS2015: string (nullable = true)\n",
      " |-- NATURALINC2010: string (nullable = true)\n",
      " |-- NATURALINC2011: string (nullable = true)\n",
      " |-- NATURALINC2012: string (nullable = true)\n",
      " |-- NATURALINC2013: string (nullable = true)\n",
      " |-- NATURALINC2014: string (nullable = true)\n",
      " |-- NATURALINC2015: string (nullable = true)\n",
      " |-- INTERNATIONALMIG2010: string (nullable = true)\n",
      " |-- INTERNATIONALMIG2011: string (nullable = true)\n",
      " |-- INTERNATIONALMIG2012: string (nullable = true)\n",
      " |-- INTERNATIONALMIG2013: string (nullable = true)\n",
      " |-- INTERNATIONALMIG2014: string (nullable = true)\n",
      " |-- INTERNATIONALMIG2015: string (nullable = true)\n",
      " |-- DOMESTICMIG2010: string (nullable = true)\n",
      " |-- DOMESTICMIG2011: string (nullable = true)\n",
      " |-- DOMESTICMIG2012: string (nullable = true)\n",
      " |-- DOMESTICMIG2013: string (nullable = true)\n",
      " |-- DOMESTICMIG2014: string (nullable = true)\n",
      " |-- DOMESTICMIG2015: string (nullable = true)\n",
      " |-- NETMIG2010: string (nullable = true)\n",
      " |-- NETMIG2011: string (nullable = true)\n",
      " |-- NETMIG2012: string (nullable = true)\n",
      " |-- NETMIG2013: string (nullable = true)\n",
      " |-- NETMIG2014: string (nullable = true)\n",
      " |-- NETMIG2015: string (nullable = true)\n",
      " |-- RESIDUAL2010: string (nullable = true)\n",
      " |-- RESIDUAL2011: string (nullable = true)\n",
      " |-- RESIDUAL2012: string (nullable = true)\n",
      " |-- RESIDUAL2013: string (nullable = true)\n",
      " |-- RESIDUAL2014: string (nullable = true)\n",
      " |-- RESIDUAL2015: string (nullable = true)\n",
      " |-- GQESTIMATESBASE2010: string (nullable = true)\n",
      " |-- GQESTIMATES2010: string (nullable = true)\n",
      " |-- GQESTIMATES2011: string (nullable = true)\n",
      " |-- GQESTIMATES2012: string (nullable = true)\n",
      " |-- GQESTIMATES2013: string (nullable = true)\n",
      " |-- GQESTIMATES2014: string (nullable = true)\n",
      " |-- GQESTIMATES2015: string (nullable = true)\n",
      " |-- RBIRTH2011: string (nullable = true)\n",
      " |-- RBIRTH2012: string (nullable = true)\n",
      " |-- RBIRTH2013: string (nullable = true)\n",
      " |-- RBIRTH2014: string (nullable = true)\n",
      " |-- RBIRTH2015: string (nullable = true)\n",
      " |-- RDEATH2011: string (nullable = true)\n",
      " |-- RDEATH2012: string (nullable = true)\n",
      " |-- RDEATH2013: string (nullable = true)\n",
      " |-- RDEATH2014: string (nullable = true)\n",
      " |-- RDEATH2015: string (nullable = true)\n",
      " |-- RNATURALINC2011: string (nullable = true)\n",
      " |-- RNATURALINC2012: string (nullable = true)\n",
      " |-- RNATURALINC2013: string (nullable = true)\n",
      " |-- RNATURALINC2014: string (nullable = true)\n",
      " |-- RNATURALINC2015: string (nullable = true)\n",
      " |-- RINTERNATIONALMIG2011: string (nullable = true)\n",
      " |-- RINTERNATIONALMIG2012: string (nullable = true)\n",
      " |-- RINTERNATIONALMIG2013: string (nullable = true)\n",
      " |-- RINTERNATIONALMIG2014: string (nullable = true)\n",
      " |-- RINTERNATIONALMIG2015: string (nullable = true)\n",
      " |-- RDOMESTICMIG2011: string (nullable = true)\n",
      " |-- RDOMESTICMIG2012: string (nullable = true)\n",
      " |-- RDOMESTICMIG2013: string (nullable = true)\n",
      " |-- RDOMESTICMIG2014: string (nullable = true)\n",
      " |-- RDOMESTICMIG2015: string (nullable = true)\n",
      " |-- RNETMIG2011: string (nullable = true)\n",
      " |-- RNETMIG2012: string (nullable = true)\n",
      " |-- RNETMIG2013: string (nullable = true)\n",
      " |-- RNETMIG2014: string (nullable = true)\n",
      " |-- RNETMIG2015: string (nullable = true)\n",
      "\n"
     ]
    }
   ],
   "source": [
    "# Uh oh Strings! \n",
    "df.describe().printSchema()"
   ]
  },
  {
   "cell_type": "code",
   "execution_count": 39,
   "metadata": {
    "collapsed": false
   },
   "outputs": [
    {
     "name": "stdout",
     "output_type": "stream",
     "text": [
      "+--------------------+\n",
      "|              STNAME|\n",
      "+--------------------+\n",
      "|                Utah|\n",
      "|              Hawaii|\n",
      "|           Minnesota|\n",
      "|                Ohio|\n",
      "|            Arkansas|\n",
      "|              Oregon|\n",
      "|               Texas|\n",
      "|        North Dakota|\n",
      "|        Pennsylvania|\n",
      "|         Connecticut|\n",
      "|            Nebraska|\n",
      "|             Vermont|\n",
      "|              Nevada|\n",
      "|          Washington|\n",
      "|            Illinois|\n",
      "|            Oklahoma|\n",
      "|District of Columbia|\n",
      "|            Delaware|\n",
      "|              Alaska|\n",
      "|          New Mexico|\n",
      "+--------------------+\n",
      "only showing top 20 rows\n",
      "\n"
     ]
    }
   ],
   "source": [
    "df.select('STNAME').distinct().show()"
   ]
  },
  {
   "cell_type": "code",
   "execution_count": 40,
   "metadata": {
    "collapsed": false
   },
   "outputs": [
    {
     "name": "stdout",
     "output_type": "stream",
     "text": [
      "+--------------------+\n",
      "|             CTYNAME|\n",
      "+--------------------+\n",
      "|   Williamson County|\n",
      "|         Owen County|\n",
      "|         Rock County|\n",
      "|Lewis and Clark C...|\n",
      "|     Canadian County|\n",
      "|       Unicoi County|\n",
      "|     McLennan County|\n",
      "|       Yoakum County|\n",
      "|                Utah|\n",
      "|      Wasatch County|\n",
      "|      Webster County|\n",
      "|              Hawaii|\n",
      "|   Cumberland County|\n",
      "|     Muskegon County|\n",
      "|     Woodward County|\n",
      "|    Hempstead County|\n",
      "|     La Plata County|\n",
      "|       DuPage County|\n",
      "|      Kingman County|\n",
      "|      Wexford County|\n",
      "+--------------------+\n",
      "only showing top 20 rows\n",
      "\n"
     ]
    }
   ],
   "source": [
    "df.select('CTYNAME').distinct().show()"
   ]
  },
  {
   "cell_type": "code",
   "execution_count": 45,
   "metadata": {
    "collapsed": false
   },
   "outputs": [
    {
     "name": "stdout",
     "output_type": "stream",
     "text": [
      "+------------------+-------------+\n",
      "|           CTYNAME|CENSUS2010POP|\n",
      "+------------------+-------------+\n",
      "|    Denali Borough|         1826|\n",
      "|      Union County|        41639|\n",
      "|      Delta County|        30952|\n",
      "|   Wicomico County|        98733|\n",
      "| Washington County|        25195|\n",
      "|  Jefferson County|       116229|\n",
      "|    Sargent County|         3829|\n",
      "|     Hughes County|        14003|\n",
      "|San Jacinto County|        26384|\n",
      "|    Lynchburg city|        75568|\n",
      "|   Franklin County|        78163|\n",
      "| Santa Cruz County|        47420|\n",
      "|      Boone County|        36903|\n",
      "|  Riverside County|      2189641|\n",
      "|    Larimer County|       299630|\n",
      "|   Treutlen County|         6885|\n",
      "|     Hardin County|         4320|\n",
      "| Livingston County|        38950|\n",
      "|Bartholomew County|        76794|\n",
      "|       Lake County|       496005|\n",
      "+------------------+-------------+\n",
      "only showing top 20 rows\n",
      "\n"
     ]
    }
   ],
   "source": [
    "df.select(['CTYNAME','CENSUS2010POP']).distinct().show()"
   ]
  },
  {
   "cell_type": "code",
   "execution_count": 60,
   "metadata": {
    "collapsed": true
   },
   "outputs": [],
   "source": [
    "# Could have also used describe\n",
    "from pyspark.sql.functions import max,min"
   ]
  },
  {
   "cell_type": "code",
   "execution_count": 77,
   "metadata": {
    "collapsed": false
   },
   "outputs": [
    {
     "name": "stdout",
     "output_type": "stream",
     "text": [
      "+------------------+------------------+\n",
      "|max(CENSUS2010POP)|min(CENSUS2010POP)|\n",
      "+------------------+------------------+\n",
      "|          37253956|                82|\n",
      "+------------------+------------------+\n",
      "\n"
     ]
    }
   ],
   "source": [
    "df.select(max(\"CENSUS2010POP\"),min(\"CENSUS2010POP\")).show()"
   ]
  },
  {
   "cell_type": "code",
   "execution_count": 81,
   "metadata": {
    "collapsed": false
   },
   "outputs": [
    {
     "name": "stdout",
     "output_type": "stream",
     "text": [
      "+------+-------------+\n",
      "|STNAME|      CTYNAME|\n",
      "+------+-------------+\n",
      "| Texas|Loving County|\n",
      "+------+-------------+\n",
      "\n"
     ]
    }
   ],
   "source": [
    "df.filter(\"CENSUS2010POP = 82 \").select(\"STNAME\",\"CTYNAME\").show()"
   ]
  },
  {
   "cell_type": "code",
   "execution_count": 113,
   "metadata": {
    "collapsed": false
   },
   "outputs": [
    {
     "name": "stdout",
     "output_type": "stream",
     "text": [
      "+----------+----------+\n",
      "|    STNAME|   CTYNAME|\n",
      "+----------+----------+\n",
      "|California|California|\n",
      "+----------+----------+\n",
      "\n"
     ]
    }
   ],
   "source": [
    "df.filter(\"CENSUS2010POP = 37253956 \").select(\"STNAME\",\"CTYNAME\").show()"
   ]
  },
  {
   "cell_type": "code",
   "execution_count": 114,
   "metadata": {
    "collapsed": false
   },
   "outputs": [
    {
     "name": "stdout",
     "output_type": "stream",
     "text": [
      "+-------+---------------+\n",
      "| STNAME|        CTYNAME|\n",
      "+-------+---------------+\n",
      "|Alabama|        Alabama|\n",
      "|Alabama| Autauga County|\n",
      "|Alabama| Baldwin County|\n",
      "|Alabama| Barbour County|\n",
      "|Alabama|    Bibb County|\n",
      "|Alabama|  Blount County|\n",
      "|Alabama| Bullock County|\n",
      "|Alabama|  Butler County|\n",
      "|Alabama| Calhoun County|\n",
      "|Alabama|Chambers County|\n",
      "|Alabama|Cherokee County|\n",
      "|Alabama| Chilton County|\n",
      "|Alabama| Choctaw County|\n",
      "|Alabama|  Clarke County|\n",
      "|Alabama|    Clay County|\n",
      "|Alabama|Cleburne County|\n",
      "|Alabama|  Coffee County|\n",
      "|Alabama| Colbert County|\n",
      "|Alabama| Conecuh County|\n",
      "|Alabama|   Coosa County|\n",
      "+-------+---------------+\n",
      "only showing top 20 rows\n",
      "\n"
     ]
    }
   ],
   "source": [
    "df.filter(\"STNAME= 'California' \").select(\"STNAME\",\"CTYNAME\").show()"
   ]
  },
  {
   "cell_type": "code",
   "execution_count": null,
   "metadata": {
    "collapsed": true
   },
   "outputs": [],
   "source": [
    "df.filter(\"STNAME= 'California' \").select(\"STNAME\",\"CTYNAME\").show()"
   ]
  },
  {
   "cell_type": "code",
   "execution_count": 87,
   "metadata": {
    "collapsed": false
   },
   "outputs": [],
   "source": [
    "import numpy as np\n",
    "import pandas as pd\n",
    "import matplotlib.pyplot as plt\n",
    "%matplotlib inline"
   ]
  },
  {
   "cell_type": "code",
   "execution_count": 95,
   "metadata": {
    "collapsed": false
   },
   "outputs": [
    {
     "data": {
      "text/html": [
       "<div>\n",
       "<table border=\"1\" class=\"dataframe\">\n",
       "  <thead>\n",
       "    <tr style=\"text-align: right;\">\n",
       "      <th></th>\n",
       "      <th>SUMLEV</th>\n",
       "      <th>REGION</th>\n",
       "      <th>DIVISION</th>\n",
       "      <th>STATE</th>\n",
       "      <th>COUNTY</th>\n",
       "      <th>STNAME</th>\n",
       "      <th>CTYNAME</th>\n",
       "      <th>CENSUS2010POP</th>\n",
       "      <th>ESTIMATESBASE2010</th>\n",
       "      <th>POPESTIMATE2010</th>\n",
       "      <th>...</th>\n",
       "      <th>RDOMESTICMIG2011</th>\n",
       "      <th>RDOMESTICMIG2012</th>\n",
       "      <th>RDOMESTICMIG2013</th>\n",
       "      <th>RDOMESTICMIG2014</th>\n",
       "      <th>RDOMESTICMIG2015</th>\n",
       "      <th>RNETMIG2011</th>\n",
       "      <th>RNETMIG2012</th>\n",
       "      <th>RNETMIG2013</th>\n",
       "      <th>RNETMIG2014</th>\n",
       "      <th>RNETMIG2015</th>\n",
       "    </tr>\n",
       "  </thead>\n",
       "  <tbody>\n",
       "    <tr>\n",
       "      <th>0</th>\n",
       "      <td>40</td>\n",
       "      <td>3</td>\n",
       "      <td>6</td>\n",
       "      <td>1</td>\n",
       "      <td>0</td>\n",
       "      <td>Alabama</td>\n",
       "      <td>Alabama</td>\n",
       "      <td>4779736</td>\n",
       "      <td>4780127</td>\n",
       "      <td>4785161</td>\n",
       "      <td>...</td>\n",
       "      <td>0.002295</td>\n",
       "      <td>-0.193196</td>\n",
       "      <td>0.381066</td>\n",
       "      <td>0.582002</td>\n",
       "      <td>-0.467369</td>\n",
       "      <td>1.030015</td>\n",
       "      <td>0.826644</td>\n",
       "      <td>1.383282</td>\n",
       "      <td>1.724718</td>\n",
       "      <td>0.712594</td>\n",
       "    </tr>\n",
       "    <tr>\n",
       "      <th>1</th>\n",
       "      <td>50</td>\n",
       "      <td>3</td>\n",
       "      <td>6</td>\n",
       "      <td>1</td>\n",
       "      <td>1</td>\n",
       "      <td>Alabama</td>\n",
       "      <td>Autauga County</td>\n",
       "      <td>54571</td>\n",
       "      <td>54571</td>\n",
       "      <td>54660</td>\n",
       "      <td>...</td>\n",
       "      <td>7.242091</td>\n",
       "      <td>-2.915927</td>\n",
       "      <td>-3.012349</td>\n",
       "      <td>2.265971</td>\n",
       "      <td>-2.530799</td>\n",
       "      <td>7.606016</td>\n",
       "      <td>-2.626146</td>\n",
       "      <td>-2.722002</td>\n",
       "      <td>2.592270</td>\n",
       "      <td>-2.187333</td>\n",
       "    </tr>\n",
       "    <tr>\n",
       "      <th>2</th>\n",
       "      <td>50</td>\n",
       "      <td>3</td>\n",
       "      <td>6</td>\n",
       "      <td>1</td>\n",
       "      <td>3</td>\n",
       "      <td>Alabama</td>\n",
       "      <td>Baldwin County</td>\n",
       "      <td>182265</td>\n",
       "      <td>182265</td>\n",
       "      <td>183193</td>\n",
       "      <td>...</td>\n",
       "      <td>14.832960</td>\n",
       "      <td>17.647293</td>\n",
       "      <td>21.845705</td>\n",
       "      <td>19.243287</td>\n",
       "      <td>17.197872</td>\n",
       "      <td>15.844176</td>\n",
       "      <td>18.559627</td>\n",
       "      <td>22.727626</td>\n",
       "      <td>20.317142</td>\n",
       "      <td>18.293499</td>\n",
       "    </tr>\n",
       "    <tr>\n",
       "      <th>3</th>\n",
       "      <td>50</td>\n",
       "      <td>3</td>\n",
       "      <td>6</td>\n",
       "      <td>1</td>\n",
       "      <td>5</td>\n",
       "      <td>Alabama</td>\n",
       "      <td>Barbour County</td>\n",
       "      <td>27457</td>\n",
       "      <td>27457</td>\n",
       "      <td>27341</td>\n",
       "      <td>...</td>\n",
       "      <td>-4.728132</td>\n",
       "      <td>-2.500690</td>\n",
       "      <td>-7.056824</td>\n",
       "      <td>-3.904217</td>\n",
       "      <td>-10.543299</td>\n",
       "      <td>-4.874741</td>\n",
       "      <td>-2.758113</td>\n",
       "      <td>-7.167664</td>\n",
       "      <td>-3.978583</td>\n",
       "      <td>-10.543299</td>\n",
       "    </tr>\n",
       "    <tr>\n",
       "      <th>4</th>\n",
       "      <td>50</td>\n",
       "      <td>3</td>\n",
       "      <td>6</td>\n",
       "      <td>1</td>\n",
       "      <td>7</td>\n",
       "      <td>Alabama</td>\n",
       "      <td>Bibb County</td>\n",
       "      <td>22915</td>\n",
       "      <td>22919</td>\n",
       "      <td>22861</td>\n",
       "      <td>...</td>\n",
       "      <td>-5.527043</td>\n",
       "      <td>-5.068871</td>\n",
       "      <td>-6.201001</td>\n",
       "      <td>-0.177537</td>\n",
       "      <td>0.177258</td>\n",
       "      <td>-5.088389</td>\n",
       "      <td>-4.363636</td>\n",
       "      <td>-5.403729</td>\n",
       "      <td>0.754533</td>\n",
       "      <td>1.107861</td>\n",
       "    </tr>\n",
       "  </tbody>\n",
       "</table>\n",
       "<p>5 rows × 100 columns</p>\n",
       "</div>"
      ],
      "text/plain": [
       "   SUMLEV  REGION  DIVISION  STATE  COUNTY   STNAME         CTYNAME  \\\n",
       "0      40       3         6      1       0  Alabama         Alabama   \n",
       "1      50       3         6      1       1  Alabama  Autauga County   \n",
       "2      50       3         6      1       3  Alabama  Baldwin County   \n",
       "3      50       3         6      1       5  Alabama  Barbour County   \n",
       "4      50       3         6      1       7  Alabama     Bibb County   \n",
       "\n",
       "   CENSUS2010POP  ESTIMATESBASE2010  POPESTIMATE2010     ...       \\\n",
       "0        4779736            4780127          4785161     ...        \n",
       "1          54571              54571            54660     ...        \n",
       "2         182265             182265           183193     ...        \n",
       "3          27457              27457            27341     ...        \n",
       "4          22915              22919            22861     ...        \n",
       "\n",
       "   RDOMESTICMIG2011  RDOMESTICMIG2012  RDOMESTICMIG2013  RDOMESTICMIG2014  \\\n",
       "0          0.002295         -0.193196          0.381066          0.582002   \n",
       "1          7.242091         -2.915927         -3.012349          2.265971   \n",
       "2         14.832960         17.647293         21.845705         19.243287   \n",
       "3         -4.728132         -2.500690         -7.056824         -3.904217   \n",
       "4         -5.527043         -5.068871         -6.201001         -0.177537   \n",
       "\n",
       "   RDOMESTICMIG2015  RNETMIG2011  RNETMIG2012  RNETMIG2013  RNETMIG2014  \\\n",
       "0         -0.467369     1.030015     0.826644     1.383282     1.724718   \n",
       "1         -2.530799     7.606016    -2.626146    -2.722002     2.592270   \n",
       "2         17.197872    15.844176    18.559627    22.727626    20.317142   \n",
       "3        -10.543299    -4.874741    -2.758113    -7.167664    -3.978583   \n",
       "4          0.177258    -5.088389    -4.363636    -5.403729     0.754533   \n",
       "\n",
       "   RNETMIG2015  \n",
       "0     0.712594  \n",
       "1    -2.187333  \n",
       "2    18.293499  \n",
       "3   -10.543299  \n",
       "4     1.107861  \n",
       "\n",
       "[5 rows x 100 columns]"
      ]
     },
     "execution_count": 95,
     "metadata": {},
     "output_type": "execute_result"
    }
   ],
   "source": [
    "pd_df = pd.read_csv(\"https://raw.githubusercontent.com/words-sdsc/coursera/master/big-data-2/csv/census.csv\")\n",
    "pd_df.head()"
   ]
  },
  {
   "cell_type": "code",
   "execution_count": null,
   "metadata": {
    "collapsed": true
   },
   "outputs": [],
   "source": []
  },
  {
   "cell_type": "code",
   "execution_count": 99,
   "metadata": {
    "collapsed": false
   },
   "outputs": [
    {
     "data": {
      "text/plain": [
       "<matplotlib.axes._subplots.AxesSubplot at 0x7f339646b7f0>"
      ]
     },
     "execution_count": 99,
     "metadata": {},
     "output_type": "execute_result"
    },
    {
     "data": {
      "image/png": "[encoded data removed]",
      "text/plain": [
       "<matplotlib.figure.Figure at 0x7f33964747f0>"
      ]
     },
     "metadata": {},
     "output_type": "display_data"
    }
   ],
   "source": [
    "pd_df_sub = pd_df[['BIRTHS2010', 'DEATHS2010']]\n",
    "pd_df_sub.plot.scatter(x='BIRTHS2010', y='DEATHS2010')"
   ]
  },
  {
   "cell_type": "code",
   "execution_count": 100,
   "metadata": {
    "collapsed": false
   },
   "outputs": [
    {
     "data": {
      "text/plain": [
       "<matplotlib.axes._subplots.AxesSubplot at 0x7f339635fe10>"
      ]
     },
     "execution_count": 100,
     "metadata": {},
     "output_type": "execute_result"
    },
    {
     "data": {
      "image/png": "[encoded data removed]",
      "text/plain": [
       "<matplotlib.figure.Figure at 0x7f33963677f0>"
      ]
     },
     "metadata": {},
     "output_type": "display_data"
    }
   ],
   "source": [
    "pd_df_sub = pd_df[['BIRTHS2011', 'DEATHS2011']]\n",
    "pd_df_sub.plot.scatter(x='BIRTHS2011', y='DEATHS2011')"
   ]
  },
  {
   "cell_type": "code",
   "execution_count": 101,
   "metadata": {
    "collapsed": false
   },
   "outputs": [
    {
     "data": {
      "text/plain": [
       "<matplotlib.axes._subplots.AxesSubplot at 0x7f339637a7f0>"
      ]
     },
     "execution_count": 101,
     "metadata": {},
     "output_type": "execute_result"
    },
    {
     "data": {
      "image/png": "[encoded data removed]",
      "text/plain": [
       "<matplotlib.figure.Figure at 0x7f339633a940>"
      ]
     },
     "metadata": {},
     "output_type": "display_data"
    }
   ],
   "source": [
    "pd_df_sub = pd_df[['BIRTHS2012', 'DEATHS2012']]\n",
    "pd_df_sub.plot.scatter(x='BIRTHS2012', y='DEATHS2012')"
   ]
  },
  {
   "cell_type": "code",
   "execution_count": 103,
   "metadata": {
    "collapsed": false
   },
   "outputs": [
    {
     "data": {
      "text/plain": [
       "<matplotlib.axes._subplots.AxesSubplot at 0x7f339632c860>"
      ]
     },
     "execution_count": 103,
     "metadata": {},
     "output_type": "execute_result"
    },
    {
     "data": {
      "image/png": "[encoded data removed]",
      "text/plain": [
       "<matplotlib.figure.Figure at 0x7f339620e048>"
      ]
     },
     "metadata": {},
     "output_type": "display_data"
    }
   ],
   "source": [
    "pd_df_sub = pd_df[['BIRTHS2013', 'DEATHS2013']]\n",
    "pd_df_sub.plot.scatter(x='BIRTHS2013', y='DEATHS2013')"
   ]
  },
  {
   "cell_type": "code",
   "execution_count": 104,
   "metadata": {
    "collapsed": false
   },
   "outputs": [
    {
     "data": {
      "text/plain": [
       "<matplotlib.axes._subplots.AxesSubplot at 0x7f33961ef2e8>"
      ]
     },
     "execution_count": 104,
     "metadata": {},
     "output_type": "execute_result"
    },
    {
     "data": {
      "image/png": "[encoded data removed]",
      "text/plain": [
       "<matplotlib.figure.Figure at 0x7f33961f6630>"
      ]
     },
     "metadata": {},
     "output_type": "display_data"
    }
   ],
   "source": [
    "pd_df_sub = pd_df[['BIRTHS2014', 'DEATHS2014']]\n",
    "pd_df_sub.plot.scatter(x='BIRTHS2014', y='DEATHS2014')"
   ]
  },
  {
   "cell_type": "code",
   "execution_count": 105,
   "metadata": {
    "collapsed": false
   },
   "outputs": [
    {
     "data": {
      "text/plain": [
       "<matplotlib.axes._subplots.AxesSubplot at 0x7f3396228d30>"
      ]
     },
     "execution_count": 105,
     "metadata": {},
     "output_type": "execute_result"
    },
    {
     "data": {
      "image/png": "[encoded data removed]",
      "text/plain": [
       "<matplotlib.figure.Figure at 0x7f33962516d8>"
      ]
     },
     "metadata": {},
     "output_type": "display_data"
    }
   ],
   "source": [
    "pd_df_sub = pd_df[['BIRTHS2015', 'DEATHS2015']]\n",
    "pd_df_sub.plot.scatter(x='BIRTHS2015', y='DEATHS2015')"
   ]
  },
  {
   "cell_type": "code",
   "execution_count": 108,
   "metadata": {
    "collapsed": false
   },
   "outputs": [
    {
     "data": {
      "text/plain": [
       "<matplotlib.axes._subplots.AxesSubplot at 0x7f3396119b38>"
      ]
     },
     "execution_count": 108,
     "metadata": {},
     "output_type": "execute_result"
    },
    {
     "data": {
      "image/png": "[encoded data removed]",
      "text/plain": [
       "<matplotlib.figure.Figure at 0x7f3396121d68>"
      ]
     },
     "metadata": {},
     "output_type": "display_data"
    }
   ],
   "source": [
    "pd_df_sub = pd_df['RBIRTH2011']\n",
    "pd_df_sub.plot.line()"
   ]
  },
  {
   "cell_type": "code",
   "execution_count": 110,
   "metadata": {
    "collapsed": false
   },
   "outputs": [
    {
     "data": {
      "text/plain": [
       "<matplotlib.axes._subplots.AxesSubplot at 0x7f33960eff98>"
      ]
     },
     "execution_count": 110,
     "metadata": {},
     "output_type": "execute_result"
    },
    {
     "data": {
      "image/png": "[encoded data removed]",
      "text/plain": [
       "<matplotlib.figure.Figure at 0x7f339697d240>"
      ]
     },
     "metadata": {},
     "output_type": "display_data"
    }
   ],
   "source": [
    "pd_df_sub = pd_df['RBIRTH2012']\n",
    "pd_df_sub.plot.line()"
   ]
  },
  {
   "cell_type": "code",
   "execution_count": null,
   "metadata": {
    "collapsed": true
   },
   "outputs": [],
   "source": [
    "pd_df_sub = pd_df['RBIRTH2013']\n",
    "pd_df_sub.plot.line()"
   ]
  },
  {
   "cell_type": "code",
   "execution_count": null,
   "metadata": {
    "collapsed": true
   },
   "outputs": [],
   "source": [
    "pd_df_sub = pd_df['RBIRTH2014']\n",
    "pd_df_sub.plot.line()"
   ]
  },
  {
   "cell_type": "code",
   "execution_count": null,
   "metadata": {
    "collapsed": true
   },
   "outputs": [],
   "source": [
    "pd_df_sub = pd_df['RBIRTH2015']\n",
    "pd_df_sub.plot.line()"
   ]
  },
  {
   "cell_type": "code",
   "execution_count": null,
   "metadata": {
    "collapsed": true
   },
   "outputs": [],
   "source": [
    "pd_df_sub = pd_df['RDEATH2011']\n",
    "pd_df_sub.plot.line()"
   ]
  },
  {
   "cell_type": "code",
   "execution_count": null,
   "metadata": {
    "collapsed": true
   },
   "outputs": [],
   "source": [
    "pd_df_sub = pd_df['RDEATH2012']\n",
    "pd_df_sub.plot.line()"
   ]
  },
  {
   "cell_type": "code",
   "execution_count": null,
   "metadata": {
    "collapsed": true
   },
   "outputs": [],
   "source": [
    "pd_df_sub = pd_df['RDEATH2013']\n",
    "pd_df_sub.plot.line()"
   ]
  },
  {
   "cell_type": "code",
   "execution_count": null,
   "metadata": {
    "collapsed": true
   },
   "outputs": [],
   "source": [
    "pd_df_sub = pd_df['RDEATH2014']\n",
    "pd_df_sub.plot.line()"
   ]
  },
  {
   "cell_type": "code",
   "execution_count": null,
   "metadata": {
    "collapsed": true
   },
   "outputs": [],
   "source": [
    "pd_df_sub = pd_df['RDEATH2015']\n",
    "pd_df_sub.plot.line()"
   ]
  },
  {
   "cell_type": "code",
   "execution_count": null,
   "metadata": {
    "collapsed": true
   },
   "outputs": [],
   "source": [
    "pd_df_sub = pd_df['RINTERNATIONALMIG2011']\n",
    "pd_df_sub.plot.line()"
   ]
  },
  {
   "cell_type": "code",
   "execution_count": 111,
   "metadata": {
    "collapsed": false
   },
   "outputs": [
    {
     "data": {
      "text/plain": [
       "<matplotlib.axes._subplots.AxesSubplot at 0x7f339616ca58>"
      ]
     },
     "execution_count": 111,
     "metadata": {},
     "output_type": "execute_result"
    },
    {
     "data": {
      "image/png": "[encoded data removed]",
      "text/plain": [
       "<matplotlib.figure.Figure at 0x7f339693add8>"
      ]
     },
     "metadata": {},
     "output_type": "display_data"
    }
   ],
   "source": [
    "pd_df_sub = pd_df['RINTERNATIONALMIG2012']\n",
    "pd_df_sub.plot.line()"
   ]
  },
  {
   "cell_type": "code",
   "execution_count": 112,
   "metadata": {
    "collapsed": false
   },
   "outputs": [
    {
     "data": {
      "text/plain": [
       "<matplotlib.axes._subplots.AxesSubplot at 0x7f33968fe518>"
      ]
     },
     "execution_count": 112,
     "metadata": {},
     "output_type": "execute_result"
    },
    {
     "data": {
      "image/png": "[encoded data removed]",
      "text/plain": [
       "<matplotlib.figure.Figure at 0x7f33968bb4a8>"
      ]
     },
     "metadata": {},
     "output_type": "display_data"
    }
   ],
   "source": [
    "pd_df_sub = pd_df['RINTERNATIONALMIG2013']\n",
    "pd_df_sub.plot.line()"
   ]
  },
  {
   "cell_type": "code",
   "execution_count": null,
   "metadata": {
    "collapsed": true
   },
   "outputs": [],
   "source": [
    "pd_df_sub = pd_df['RINTERNATIONALMIG2014']\n",
    "pd_df_sub.plot.line()"
   ]
  },
  {
   "cell_type": "code",
   "execution_count": null,
   "metadata": {
    "collapsed": true
   },
   "outputs": [],
   "source": [
    "pd_df_sub = pd_df['RINTERNATIONALMIG2015']\n",
    "pd_df_sub.plot.line()"
   ]
  }
 ],
 "metadata": {
  "kernelspec": {
   "display_name": "Python 3",
   "language": "python",
   "name": "python3"
  },
  "language_info": {
   "codemirror_mode": {
    "name": "ipython",
    "version": 3
   },
   "file_extension": ".py",
   "mimetype": "text/x-python",
   "name": "python",
   "nbconvert_exporter": "python",
   "pygments_lexer": "ipython3",
   "version": "3.5.1"
  }
 },
 "nbformat": 4,
 "nbformat_minor": 0
}
